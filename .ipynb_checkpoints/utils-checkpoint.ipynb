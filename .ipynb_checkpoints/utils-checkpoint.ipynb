{
 "cells": [
  {
   "cell_type": "code",
   "execution_count": 1,
   "id": "b04fb572",
   "metadata": {},
   "outputs": [],
   "source": [
    "import numpy as np\n",
    "from PIL import Image\n",
    "import xlsxwriter\n",
    "import shutil\n",
    "import statsmodels.api as sm\n",
    "import pandas as pd\n",
    "import os\n",
    "import matplotlib.pyplot as plt"
   ]
  },
  {
   "cell_type": "code",
   "execution_count": 2,
   "id": "0a053e29",
   "metadata": {},
   "outputs": [],
   "source": [
    "def sarima_model(y,seasonal_pdq,pdq):\n",
    "    AIC = []\n",
    "    for param in pdq:\n",
    "        for param_seasonal in seasonal_pdq:\n",
    "            try:\n",
    "                mod = sm.tsa.statespace.SARIMAX(y,\n",
    "                                                order=param,\n",
    "                                                seasonal_order=param_seasonal,\n",
    "                                                enforce_stationarity=False,\n",
    "                                                enforce_invertibility=False)\n",
    "                #Enforee_stationary: Whether or not to transform the AR parameters to enforce stationarity in the autoregressive component of the model\n",
    "                #Enforce_invertibility: Whether or not to transform the MA parameters to enforce invertibility in the moving average component of the model.\n",
    "                results = mod.fit()\n",
    "                AIC.append((param, param_seasonal, results.aic))\n",
    "            except:\n",
    "                continue\n",
    "    return AIC"
   ]
  },
  {
   "cell_type": "code",
   "execution_count": 3,
   "id": "f26ee579",
   "metadata": {},
   "outputs": [],
   "source": [
    "def sarima_model_v1(y,param,param_seasonal):\n",
    "    mod = sm.tsa.statespace.SARIMAX(y,\n",
    "                                order=param,\n",
    "                                seasonal_order=param_seasonal,\n",
    "                                enforce_stationarity=False,\n",
    "                                enforce_invertibility=False)\n",
    "\n",
    "    results = mod.fit()\n",
    "    return results    "
   ]
  },
  {
   "cell_type": "code",
   "execution_count": 4,
   "id": "443ce861",
   "metadata": {},
   "outputs": [],
   "source": [
    "def rearrange_results(y,forcast_y):  \n",
    "    excel_data = pd.DataFrame(y).reset_index()\n",
    "    clm_name = pd.DataFrame(y).reset_index().columns[-1]\n",
    "    #print(clm_name)\n",
    "    forecast = forcast_y.reset_index().rename(columns={'index':'Date','predicted_mean': 'forecast_'+clm_name})\n",
    "    #print(forecast)\n",
    "    excel_data = pd.concat([excel_data, forecast])\n",
    "    #excel_data = excel_data[['Date','Daily Gen.(kWh)','forecast_Daily Gen.(kWh)']]\n",
    "    \n",
    "    return excel_data"
   ]
  },
  {
   "cell_type": "code",
   "execution_count": 5,
   "id": "cd3186bc",
   "metadata": {},
   "outputs": [],
   "source": [
    "def forecast_plot(results,prediction_period,y,loc):\n",
    "    #yhat=results.predict(start=0, end=len(y)-1)\n",
    "    #plt.plot(y)\n",
    "    #plt.plot(yhat)\n",
    "    #plt.show()\n",
    "\n",
    "    pred_uc = results.get_forecast(steps=int(prediction_period))\n",
    "    # gives lower and upper bound of predicted values\n",
    "    #pred = results.forecast(steps=int(prediction_period))\n",
    "    # gives the actual mean of lower and upper bound of predicted values\n",
    "    pred_ci = pred_uc.conf_int()\n",
    "    #Returns the confidence interval of the fitted parameters\n",
    "    ax = y[str(y.index[0].date().year):].plot(label='Actual')\n",
    "    pred_uc.predicted_mean.plot(ax=ax, label='Forecast',alpha=.7,figsize=(14, 4))\n",
    "    \n",
    "    ax.fill_between(pred_ci.index,\n",
    "                    pred_ci.iloc[:, 0],\n",
    "                    pred_ci.iloc[:, 1], color='k', alpha=.25)\n",
    "\n",
    "    clm_name = pd.DataFrame(y).reset_index().columns[-1]\n",
    "    if clm_name == 'Wind\\nSpeed\\n(m/s)':\n",
    "        clm_name = 'wind'\n",
    "    else:\n",
    "        clm_name = 'generation'\n",
    "    \n",
    "    ax.set_xlabel('Date')\n",
    "    ax.set_ylabel(clm_name)\n",
    "    plt.legend()\n",
    "    plt.suptitle(\"Location: \"+loc)\n",
    "    plt.savefig('results/{}_{}'.format(clm_name,loc)+'.png',bbox_inches='tight', pad_inches=0)\n",
    "    plt.show()\n",
    "    plt.close(\"all\")\n",
    "    results = rearrange_results(y,pred_uc.predicted_mean)\n",
    "    \n",
    "    return results"
   ]
  },
  {
   "cell_type": "code",
   "execution_count": 6,
   "id": "1d9c392d",
   "metadata": {},
   "outputs": [],
   "source": [
    "def save_excel(loc,excel_data):\n",
    "    workbook = xlsxwriter.Workbook(\"results/\"+loc+\".xlsx\")\n",
    "    worksheet = workbook.add_worksheet()\n",
    "    bold = workbook.add_format({'bold': 1})\n",
    "    headings = ['Date','Daily Gen.(kWh)','forecast_Daily Gen.(kWh)', 'Wind Speed (m/s)','forecast_Wind Speed (m/s)']\n",
    "    worksheet.write_row('A1', headings, bold)\n",
    "    date_format = workbook.add_format({'num_format':'dd-mm-yyyy'})\n",
    "    worksheet.write_column('A2', list(excel_data['Date']), date_format)\n",
    "    worksheet.write_column('B2', list(excel_data['Daily Gen.(kWh)']))\n",
    "    worksheet.write_column('C2', list(excel_data['forecast_Daily Gen.(kWh)']))\n",
    "    worksheet.write_column('D2', list(excel_data['Wind\\nSpeed\\n(m/s)']))\n",
    "    worksheet.write_column('E2', list(excel_data['forecast_Wind\\nSpeed\\n(m/s)']))\n",
    "    worksheet.insert_image('H2', 'testgeneration.bmp')\n",
    "    worksheet.insert_image('H24', 'testwind.bmp')\n",
    "    workbook.close()"
   ]
  },
  {
   "cell_type": "code",
   "execution_count": 7,
   "id": "aa16354f",
   "metadata": {},
   "outputs": [],
   "source": [
    "def save_plots(loc,excel_data):\n",
    "    clm_name = ['wind', 'generation']\n",
    "    for key in clm_name:\n",
    "        file_in = 'results/{}_{}'.format(key,loc)+'.png'\n",
    "        img = Image.open(file_in)\n",
    "        file_out = 'test{}'.format(key)+'.bmp'\n",
    "        if len(img.split()) == 4:\n",
    "            r, g, b, a = img.split()\n",
    "            img = Image.merge(\"RGB\", (r, g, b))\n",
    "            img.save(file_out)\n",
    "        else:\n",
    "            img.save(file_out)\n",
    "\n",
    "    save_excel(loc,excel_data)\n",
    "    print(\"Result Save\")"
   ]
  },
  {
   "cell_type": "code",
   "execution_count": null,
   "id": "60b2e087",
   "metadata": {},
   "outputs": [],
   "source": []
  }
 ],
 "metadata": {
  "kernelspec": {
   "display_name": "Python 3",
   "language": "python",
   "name": "python3"
  },
  "language_info": {
   "codemirror_mode": {
    "name": "ipython",
    "version": 3
   },
   "file_extension": ".py",
   "mimetype": "text/x-python",
   "name": "python",
   "nbconvert_exporter": "python",
   "pygments_lexer": "ipython3",
   "version": "3.8.8"
  }
 },
 "nbformat": 4,
 "nbformat_minor": 5
}
